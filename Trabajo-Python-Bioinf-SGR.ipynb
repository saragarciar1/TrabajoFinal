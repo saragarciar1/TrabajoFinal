{
 "cells": [
  {
   "cell_type": "markdown",
   "id": "eaebb484",
   "metadata": {},
   "source": [
    "# TRABAJO DE PYTHON\n",
    "\n",
    "### Este trabajo cuenta el 30% de la nota. \n",
    "\n",
    "### Resuelve los siguientes ejercicios en Python\n",
    "\n",
    "#### Utiliza tantas celdas de código como necesites"
   ]
  },
  {
   "cell_type": "markdown",
   "id": "98d4d480",
   "metadata": {},
   "source": [
    "#### 1.- Carga el archivo *\"archivo.txt\"* en este Jupyter Notebook y guarda su contenido en una lista. (1 pto)"
   ]
  },
  {
   "cell_type": "code",
   "execution_count": 230,
   "id": "f6b21b23",
   "metadata": {},
   "outputs": [
    {
     "name": "stdout",
     "output_type": "stream",
     "text": [
      "['>CP043953.1 Acinetobacter baumannii strain K09-14 chromosome, complete genome\\n', 'ATGCTTTGGACAGACTGCTTAACTCGCTTGCGACAAGAGCTCTCTGATAACGTCTTTGCGATGTGGATTCGCCCTTTAGTAGCTGAAGAAGTAGAGGGGATACTACGTCTCTATGCTCCTAATCCTTATTGGACGCGTTATATTCAAGAGAATCATTTAGAGTTAATTTCTATATTGGCTGAACAATTGTCAGAAGGGCGGGTGCGTCAGGTTGAAATCTTGGTAGATTCTCGTCCTGGTAGTATTTTGTCTTCTAGTGAACAGCCTGCAACAACTACAGCAGCTTTACAAACTGCCCCTATACCTCAACCTGCTAAGGTTAAAAGAGAACCGGAACCTGTTGCTAATACTGCAGTTAGTTCTAAGAGTTCAAAAAAGAAACTATTAAATCCACAATTTACTTTTTCACTATTTGTTGAAGGCCGTTCTAACCAAATGGCAGCAGAAACCTGTAGAAAAGTATTAACACAGTTAGGTGCTTCTCAACATAACCCTTTGTTTTTATATGGTCCGACAGGTCTAGGTAAGACTCACTTAATGCAAGCAGTTGGTAATGCCCTACTGCAAGCGAAGCCGAATGCAAGAGTCATGTATATGACTTCAGAAAGTTTTGTACAAGATTTTGTGAGCTCATTACAAAAAGGAAAGGTAGAAGAGTTTAAGAAAAATTGCCGTTCTTTAGACTTGTTATTAGTAGATGATATTCATCTTTTGGCAGGAAAAGAAGCAAGTCTCGTTGAATTCTTCTATACATTTAATGCCTTACTTGATGAATCTAAACAAATTATTTTAACGTCTGATCGATATCCTAAAGAATTAACAGAACTTGATCCTCGATTGGTTTCTCGTTTTTCCTGGGGGCTATCAGTAGGTGTTGAACCACCTGATATTGAAACTCGAATCGAAATTCTGCTTAAAAAAGCTGAAAATAGTGGCGTTGATTTACCTAGAAACTGTGCGTTGTTTATTGCCCAACAAGTCGTAGCGAACGTACGTGAACTTGAGGGCGCACTGAATAAAGTTGTCGCAATTTCACGTTTTAAAGGTGCTCCAATTGACCTGGATGTCGTACGGGAATCTTTAAAAGATGTTTTAGCGATCCGTGCTCGTACAATTAGTGTAGAAAATATCCAGCGTGTAGTGAGTGAATATTTCCGAATTCCATTAAAAGAGCTGGTAGGTCCAAAGCGTACCCGAATTTATGCTCGACCACGTCAGTTGGCGATGGGGCTTGCCCGTGAATTAACGGGGGATAGTTTTCCTGAAATTGGAATGGCTTTTGGTGGGCGTGATCACAGTACAGTGATGCATGCTTGTGAAAAAGTCGTC']\n"
     ]
    }
   ],
   "source": [
    "archivo = open('archivo.txt')\n",
    "contenido = archivo.readlines()\n",
    "print(contenido)"
   ]
  },
  {
   "cell_type": "markdown",
   "id": "400fa3f1",
   "metadata": {},
   "source": [
    "#### 2.- Muestre el encabezado y la secuencia y guarde cada uno en variables separadas. Elimine el elemento \"\\n\" del encabezado con replace(). ¿Cual es la longitud de la secuencia?. (1 pto)"
   ]
  },
  {
   "cell_type": "code",
   "execution_count": 233,
   "id": "154b42b2",
   "metadata": {},
   "outputs": [
    {
     "name": "stdout",
     "output_type": "stream",
     "text": [
      "Encabezado: >CP043953.1 Acinetobacter baumannii strain K09-14 chromosome, complete genome\n",
      "Longitud: 1329\n",
      "Secuencia: ATGCTTTGGACAGACTGCTTAACTCGCTTGCGACAAGAGCTCTCTGATAACGTCTTTGCGATGTGGATTCGCCCTTTAGTAGCTGAAGAAGTAGAGGGGATACTACGTCTCTATGCTCCTAATCCTTATTGGACGCGTTATATTCAAGAGAATCATTTAGAGTTAATTTCTATATTGGCTGAACAATTGTCAGAAGGGCGGGTGCGTCAGGTTGAAATCTTGGTAGATTCTCGTCCTGGTAGTATTTTGTCTTCTAGTGAACAGCCTGCAACAACTACAGCAGCTTTACAAACTGCCCCTATACCTCAACCTGCTAAGGTTAAAAGAGAACCGGAACCTGTTGCTAATACTGCAGTTAGTTCTAAGAGTTCAAAAAAGAAACTATTAAATCCACAATTTACTTTTTCACTATTTGTTGAAGGCCGTTCTAACCAAATGGCAGCAGAAACCTGTAGAAAAGTATTAACACAGTTAGGTGCTTCTCAACATAACCCTTTGTTTTTATATGGTCCGACAGGTCTAGGTAAGACTCACTTAATGCAAGCAGTTGGTAATGCCCTACTGCAAGCGAAGCCGAATGCAAGAGTCATGTATATGACTTCAGAAAGTTTTGTACAAGATTTTGTGAGCTCATTACAAAAAGGAAAGGTAGAAGAGTTTAAGAAAAATTGCCGTTCTTTAGACTTGTTATTAGTAGATGATATTCATCTTTTGGCAGGAAAAGAAGCAAGTCTCGTTGAATTCTTCTATACATTTAATGCCTTACTTGATGAATCTAAACAAATTATTTTAACGTCTGATCGATATCCTAAAGAATTAACAGAACTTGATCCTCGATTGGTTTCTCGTTTTTCCTGGGGGCTATCAGTAGGTGTTGAACCACCTGATATTGAAACTCGAATCGAAATTCTGCTTAAAAAAGCTGAAAATAGTGGCGTTGATTTACCTAGAAACTGTGCGTTGTTTATTGCCCAACAAGTCGTAGCGAACGTACGTGAACTTGAGGGCGCACTGAATAAAGTTGTCGCAATTTCACGTTTTAAAGGTGCTCCAATTGACCTGGATGTCGTACGGGAATCTTTAAAAGATGTTTTAGCGATCCGTGCTCGTACAATTAGTGTAGAAAATATCCAGCGTGTAGTGAGTGAATATTTCCGAATTCCATTAAAAGAGCTGGTAGGTCCAAAGCGTACCCGAATTTATGCTCGACCACGTCAGTTGGCGATGGGGCTTGCCCGTGAATTAACGGGGGATAGTTTTCCTGAAATTGGAATGGCTTTTGGTGGGCGTGATCACAGTACAGTGATGCATGCTTGTGAAAAAGTCGTC\n"
     ]
    }
   ],
   "source": [
    "encabezado = contenido[0].replace(\"\\n\", \"\")\n",
    "contenido_secuenciote = contenido[1] \n",
    "longitud_secuencia =len(contenido_secuenciote)\n",
    "secuencia = contenido [1]\n",
    "print(\"Encabezado:\", encabezado)\n",
    "print(\"Longitud:\", longitud_secuencia)\n",
    "print (\"Secuencia:\",secuencia)"
   ]
  },
  {
   "cell_type": "markdown",
   "id": "36b8c00d",
   "metadata": {},
   "source": [
    "#### 3.- Para el encabezado, extrae empleando expresiones regulares el identificador. (1pto)"
   ]
  },
  {
   "cell_type": "code",
   "execution_count": 236,
   "id": "d845bb81",
   "metadata": {},
   "outputs": [
    {
     "name": "stdout",
     "output_type": "stream",
     "text": [
      "Identificador: CP043953.1\n"
     ]
    }
   ],
   "source": [
    "import re \n",
    "identificador = re.search(r\">(\\S+)\", encabezado).group(1)\n",
    "print (\"Identificador:\", identificador)             "
   ]
  },
  {
   "cell_type": "markdown",
   "id": "f38fdda0",
   "metadata": {},
   "source": [
    "#### 4.- Para la secuencia, haz un algoritmo que vaya sumando el numero de adeninas (A) y timinas (T) segun vaya iterando por la secuencia. El numero total de adeninas y timinas deberia guardarse en una misma variable. (1 pto)"
   ]
  },
  {
   "cell_type": "code",
   "execution_count": 239,
   "id": "2914b1f2",
   "metadata": {},
   "outputs": [
    {
     "name": "stdout",
     "output_type": "stream",
     "text": [
      "El número total de adeninas (A) y timinas(T) es: 793\n"
     ]
    }
   ],
   "source": [
    "secuencia = contenido[1].strip()\n",
    "conteo_at = 0\n",
    "for nucleotido in secuencia:\n",
    "    if nucleotido == 'A' or nucleotido == 'T':\n",
    "        conteo_at +=1\n",
    "print(\"El número total de adeninas (A) y timinas(T) es:\", conteo_at)\n",
    "    "
   ]
  },
  {
   "cell_type": "markdown",
   "id": "98096e73",
   "metadata": {},
   "source": [
    "#### 5.- Escribe una funcion que calcule el porcentaje de un nucleotido de una secuencia y que examine la entrada para comprobar que se ha introducido un nucleotido de los cuatro tipos que hay (A, T, G o C). Devuelve el resultado con un decimal. Por ultimo comprueba que tu codigo funciona con las siguientes *assertions*. (1 pto)"
   ]
  },
  {
   "cell_type": "code",
   "execution_count": 242,
   "id": "df4b86c4",
   "metadata": {},
   "outputs": [
    {
     "name": "stdout",
     "output_type": "stream",
     "text": [
      "El porcentaje de adeninas es: 29.2 %\n",
      "El porcentaje de citosinas es: 18.3 %\n",
      "El porcentaje de timinas es: 30.5 %\n",
      "El porcentaje de guaninas es: 22.0 %\n"
     ]
    }
   ],
   "source": [
    "longitud_total = len(secuencia)\n",
    "conteo_a = secuencia.count ('A')\n",
    "conteo_c = secuencia.count ('C')\n",
    "conteo_t = secuencia.count ('T')\n",
    "conteo_g = secuencia.count ('G')\n",
    "if longitud_total > 0:\n",
    "    porcentaje_a = round((conteo_a /longitud_total)*100,1)\n",
    "    porcentaje_c = round((conteo_c/ longitud_total)*100, 1)\n",
    "    porcentaje_t = round((conteo_t / longitud_total)*100,1)\n",
    "    porcentaje_g = round((conteo_g /longitud_total)*100,1)\n",
    "    print (\"El porcentaje de adeninas es:\", porcentaje_a,\"%\")\n",
    "    print (\"El porcentaje de citosinas es:\", porcentaje_c,\"%\")\n",
    "    print (\"El porcentaje de timinas es:\", porcentaje_t,\"%\")\n",
    "    print (\"El porcentaje de guaninas es:\", porcentaje_g,\"%\")\n",
    "\n",
    "else:\n",
    "    print(\"La secuencia no puede calcular los porcentajes.\")\n",
    "\n",
    "def obtener_porcentajenucleotidos (nucleotido):\n",
    "    if nucleotido == \"A\":\n",
    "        return porcentaje_a\n",
    "    elif nucleotido ==\"T\":\n",
    "        return porcentaje_t\n",
    "    elif nucleotido == \"G\":\n",
    "        return  porcentaje_g\n",
    "    elif nucleotido == \"C\":\n",
    "        return  porcentaje_c\n",
    "    else:\n",
    "        return 0"
   ]
  },
  {
   "cell_type": "code",
   "execution_count": 244,
   "id": "968e5c78-c915-4883-acb5-60a35bcbb0c7",
   "metadata": {},
   "outputs": [
    {
     "name": "stdout",
     "output_type": "stream",
     "text": [
      "El porcentaje final es correcto\n"
     ]
    }
   ],
   "source": [
    "assert obtener_porcentajenucleotidos(\"A\" ) == 29.2, f\"Error:{obtener_porcentajenucleotidos ('A')}! =29.2\"\n",
    "assert obtener_porcentajenucleotidos(\"T\" ) == 30.5, f\"Error:{obtener_porcentajenucleotidos ('T')}! =30.5\"\n",
    "assert obtener_porcentajenucleotidos(\"G\" ) == 22.0, f\"Error:{obtener_porcentajenucleotidos('G')}! =22.0\"\n",
    "assert obtener_porcentajenucleotidos(\"C\" ) == 18.3, f\"Error:{obtener_porcentajenucleotidos('C')}! =18.3\"\n",
    "\n",
    "print (\"El porcentaje final es correcto\")"
   ]
  },
  {
   "cell_type": "markdown",
   "id": "a28888dd",
   "metadata": {},
   "source": [
    "#### 6.- Devuelve la secuencia de ARN que surgiría a partir de la siguiente secuencia. Recuerda que la secuencia de ARN resultante tiene que ser complementaria a la de ADN y además, hay que cambiar un nucleótido. (1 pto)"
   ]
  },
  {
   "cell_type": "code",
   "execution_count": 247,
   "id": "b27feabb",
   "metadata": {},
   "outputs": [
    {
     "name": "stdout",
     "output_type": "stream",
     "text": [
      "Secuencia de ARN:\n",
      "UACGAAACCUGUCUGACGAAUUGAGCGAACGCUGUUCUCGAGAGACUAUUGCAGAAACGCUACACCUAAGCGGGAAAUCAUCGACUUCUUCAUCUCCCCUAUGAUGCAGAGAUACGAGGAUUAGGAAUAACCUGCGCAAUAUAAGUUCUCUUAGUAAAUCUCAAUUAAAGAUAUAACCGACUUGUUAACAGUCUUCCCGCCCACGCAGUCCAACUUUAGAACCAUCUAAGAGCAGGACCAUCAUAAAACAGAAGAUCACUUGUCGGACGUUGUUGAUGUCGUCGAAAUGUUUGACGGGGAUAUGGAGUUGGACGAUUCCAAUUUUCUCUUGGCCUUGGACAACGAUUAUGACGUCAAUCAAGAUUCUCAAGUUUUUUCUUUGAUAAUUUAGGUGUUAAAUGAAAAAGUGAUAAACAACUUCCGGCAAGAUUGGUUUACCGUCGUCUUUGGACAUCUUUUCAUAAUUGUGUCAAUCCACGAAGAGUUGUAUUGGGAAACAAAAAUAUACCAGGCUGUCCAGAUCCAUUCUGAGUGAAUUACGUUCGUCAACCAUUACGGGAUGACGUUCGCUUCGGCUUACGUUCUCAGUACAUAUACUGAAGUCUUUCAAAACAUGUUCUAAAACACUCGAGUAAUGUUUUUCCUUUCCAUCUUCUCAAAUUCUUUUUAACGGCAAGAAAUCUGAACAAUAAUCAUCUACUAUAAGUAGAAAACCGUCCUUUUCUUCGUUCAGAGCAACUUAAGAAGAUAUGUAAAUUACGGAAUGAACUACUUAGAUUUGUUUAAUAAAAUUGCAGACUAGCUAUAGGAUUUCUUAAUUGUCUUGAACUAGGAGCUAACCAAAGAGCAAAAAGGACCCCCGAUAGUCAUCCACAACUUGGUGGACUAUAACUUUGAGCUUAGCUUUAAGACGAAUUUUUUCGACUUUUAUCACCGCAACUAAAUGGAUCUUUGACACGCAACAAAUAACGGGUUGUUCAGCAUCGCUUGCAUGCACUUGAACUCCCGCGUGACUUAUUUCAACAGCGUUAAAGUGCAAAAUUUCCACGAGGUUAACUGGACCUACAGCAUGCCCUUAGAAAUUUUCUACAAAAUCGCUAGGCACGAGCAUGUUAAUCACAUCUUUUAUAGGUCGCACAUCACUCACUUAUAAAGGCUUAAGGUAAUUUUCUCGACCAUCCAGGUUUCGCAUGGGCUUAAAUACGAGCUGGUGCAGUCAACCGCUACCCCGAACGGGCACUUAAUUGCCCCCUAUCAAAAGGACUUUAACCUUACCGAAAACCACCCGCACUAGUGUCAUGUCACUACGUACGAACACUUUUUCAGCAG\n"
     ]
    }
   ],
   "source": [
    "secuencia = \"\".join (line.strip() for line in contenido [1:])\n",
    "def generar_arn (secuencia_adn):\n",
    "    \"\"\" Genera la secuencia de ARN complementaria a la de ADN. Cambia T por U en la secuencia \"\"\"\n",
    "    complementos = {\"A\": \"U\", \"T\" : \"A\" , \"C\":\"G\", \"G\":\"C\"}\n",
    "    arn= \"\".join (complementos [base] for base in secuencia_adn)\n",
    "    return arn\n",
    "\n",
    "arn_secuencia = generar_arn(secuencia)\n",
    "print(\"Secuencia de ARN:\")\n",
    "print (arn_secuencia)"
   ]
  },
  {
   "cell_type": "markdown",
   "id": "9f94d5dd",
   "metadata": {},
   "source": [
    "#### 7.- Realiza una función que realice una digestión con las siguientes enzimas de restricción en nuestra secuencia. La función tiene que devolver la siguiente información: (2 pto)\n",
    "1. Enzimas que tienen sitios de corte en la secuencia y posición (o posiciones de corte)\n",
    "2. Enzimas que no tienen sitios de corte (si las hay)\n",
    "3. Resultado de la digestión: los fragmentos resultantes de nuestra secuencia\n",
    "4. Indicar número y tamaño de cada fragmento"
   ]
  },
  {
   "cell_type": "code",
   "execution_count": 250,
   "id": "1cab833c",
   "metadata": {},
   "outputs": [
    {
     "name": "stdout",
     "output_type": "stream",
     "text": [
      "Enzimas que tienen sitios de corte y posiciones:\n",
      "AluI: [39, 82, 283, 629, 922, 1173]\n",
      "Sau3AI: [798, 828, 1097, 1290]\n",
      "EcoRI: [739, 1157]\n",
      "\n",
      "Enzimas que no tienen sitios de corte:\n",
      "['HindIII', 'BamHI']\n",
      "\n",
      "Fragmentos finales:\n",
      "Fragmento: ATGCTTTGGACAGACTGCTTAACTCGCTTGCGACAAGAG, tamaño: 39\n",
      "Fragmento: CTCTCTGATAACGTCTTTGCGATGTGGATTCGCCCTTTAGTAG, tamaño: 43\n",
      "Fragmento: CTGAAGAAGTAGAGGGGATACTACGTCTCTATGCTCCTAATCCTTATTGGACGCGTTATATTCAAGAGAATCATTTAGAGTTAATTTCTATATTGGCTGAACAATTGTCAGAAGGGCGGGTGCGTCAGGTTGAAATCTTGGTAGATTCTCGTCCTGGTAGTATTTTGTCTTCTAGTGAACAGCCTGCAACAACTACAGCAG, tamaño: 201\n",
      "Fragmento: CTTTACAAACTGCCCCTATACCTCAACCTGCTAAGGTTAAAAGAGAACCGGAACCTGTTGCTAATACTGCAGTTAGTTCTAAGAGTTCAAAAAAGAAACTATTAAATCCACAATTTACTTTTTCACTATTTGTTGAAGGCCGTTCTAACCAAATGGCAGCAGAAACCTGTAGAAAAGTATTAACACAGTTAGGTGCTTCTCAACATAACCCTTTGTTTTTATATGGTCCGACAGGTCTAGGTAAGACTCACTTAATGCAAGCAGTTGGTAATGCCCTACTGCAAGCGAAGCCGAATGCAAGAGTCATGTATATGACTTCAGAAAGTTTTGTACAAGATTTTGTGAG, tamaño: 346\n",
      "Fragmento: CTCATTACAAAAAGGAAAGGTAGAAGAGTTTAAGAAAAATTGCCGTTCTTTAGACTTGTTATTAGTAGATGATATTCATCTTTTGGCAGGAAAAGAAGCAAGTCTCGTTG, tamaño: 110\n",
      "Fragmento: AATTCTTCTATACATTTAATGCCTTACTTGATGAATCTAAACAAATTATTTTAACGTCT, tamaño: 59\n",
      "Fragmento: GATCGATATCCTAAAGAATTAACAGAACTT, tamaño: 30\n",
      "Fragmento: GATCCTCGATTGGTTTCTCGTTTTTCCTGGGGGCTATCAGTAGGTGTTGAACCACCTGATATTGAAACTCGAATCGAAATTCTGCTTAAAAAAG, tamaño: 94\n",
      "Fragmento: CTGAAAATAGTGGCGTTGATTTACCTAGAAACTGTGCGTTGTTTATTGCCCAACAAGTCGTAGCGAACGTACGTGAACTTGAGGGCGCACTGAATAAAGTTGTCGCAATTTCACGTTTTAAAGGTGCTCCAATTGACCTGGATGTCGTACGGGAATCTTTAAAAGATGTTTTAGC, tamaño: 175\n",
      "Fragmento: GATCCGTGCTCGTACAATTAGTGTAGAAAATATCCAGCGTGTAGTGAGTGAATATTTCCG, tamaño: 60\n",
      "Fragmento: AATTCCATTAAAAGAG, tamaño: 16\n",
      "Fragmento: CTGGTAGGTCCAAAGCGTACCCGAATTTATGCTCGACCACGTCAGTTGGCGATGGGGCTTGCCCGTGAATTAACGGGGGATAGTTTTCCTGAAATTGGAATGGCTTTTGGTGGGCGT, tamaño: 117\n",
      "Fragmento: GATCACAGTACAGTGATGCATGCTTGTGAAAAAGTCGTC, tamaño: 39\n"
     ]
    }
   ],
   "source": [
    "enzR = {\n",
    "    'HindIII' : 'A*AGCTT',\n",
    "    'BamHI' : 'G*GATCC',\n",
    "    'AluI' : 'AG*CT',\n",
    "    'Sau3AI' : '*GATC',\n",
    "    'EcoRI' : 'G*AATTC'\n",
    "}\n",
    "def digestar_secuencia (contenido, enzimas):\n",
    "    enzimas_con_corte = {}\n",
    "    enzimas_sin_corte= []\n",
    "    posiciones_de_corte = []\n",
    "    \n",
    "    for enzima, secuencia_corte in enzimas.items():\n",
    "        posicion_corte = secuencia_corte.index ('*')\n",
    "        secuencia_real = secuencia_corte. replace ('*', '')\n",
    "\n",
    "        matches = re.finditer (secuencia_real, secuencia)\n",
    "        cortes = [match.start () + posicion_corte for match in matches]\n",
    "        if cortes: \n",
    "            enzimas_con_corte[enzima] = cortes\n",
    "            posiciones_de_corte.extend (cortes)\n",
    "        else:\n",
    "            enzimas_sin_corte.append (enzima)\n",
    "            \n",
    "    if posiciones_de_corte:\n",
    "        posiciones_de_corte.sort ()\n",
    "        fragmentos = []\n",
    "        inicio = 0\n",
    "        for corte in posiciones_de_corte:\n",
    "            fragmentos.append(secuencia [inicio:corte])\n",
    "            inicio =corte\n",
    "        fragmentos.append (secuencia[inicio:])\n",
    "    else:\n",
    "        fragmentos = [secuencia]\n",
    "        \n",
    "    tamaños_fragmentos = [len(fragmento) for fragmento in fragmentos]\n",
    "    return {\n",
    "        \"enzimas_con_corte\": enzimas_con_corte,\n",
    "        \"enzimas_sin_corte\": enzimas_sin_corte,\n",
    "        \"fragmentos_resultantes\": fragmentos,\n",
    "        \"tamaños_fragmentos\": tamaños_fragmentos\n",
    "    }\n",
    "    \n",
    "resultado = digestar_secuencia(contenido, enzR)\n",
    "print (\"Enzimas que tienen sitios de corte y posiciones:\")\n",
    "for enzima, posiciones in resultado [\"enzimas_con_corte\"].items ():\n",
    "    print(f\"{enzima}: {posiciones}\")\n",
    "print (\"\\nEnzimas que no tienen sitios de corte:\")\n",
    "print (resultado [\"enzimas_sin_corte\"])\n",
    "print (\"\\nFragmentos finales:\")\n",
    "for fragmento,tamano in zip(resultado [\"fragmentos_resultantes\"], resultado[\"tamaños_fragmentos\"]):\n",
    "    print(f\"Fragmento: {fragmento}, tamaño: {tamano}\")\n",
    "    \n",
    "enzR = {\n",
    "    'HindIII' : 'A*AGCTT',\n",
    "    'BamHI' : 'G*GATCC',\n",
    "    'AluI' : 'AG*CT',\n",
    "    'Sau3AI' : '*GATC',\n",
    "    'EcoRI' : 'G*AATTC'\n",
    "}"
   ]
  },
  {
   "cell_type": "markdown",
   "id": "cae3c937",
   "metadata": {},
   "source": [
    "#### 8.- Realiza una función que mediante la introducción de una secuencia de ADN devuelva lo siguiente: (2pto)\n",
    "1. La secuencia traducida de proteína\n",
    "2. La longitud de la secuencia de ADN original y la longitud de la secuencia de proteínas final\n",
    "3. El porcentaje de aminoácidos aromáticos (en conjunto y por separado)\n"
   ]
  },
  {
   "cell_type": "code",
   "execution_count": 253,
   "id": "1c43d765",
   "metadata": {},
   "outputs": [
    {
     "name": "stdout",
     "output_type": "stream",
     "text": [
      "Secuencia proteina:MLWTDCLTRLRQELSDNVFAMWIRPLVAEEVEGILRLYAPNPYWTRYIQENHLELISILAEQLSEGRVRQVEILVDSRPGSILSSSEQPATTTAALQTAPIPQPAKVKREPEPVANTAVSSKSSKKKLLNPQFTFSLFVEGRSNQMAAETCRKVLTQLGASQHNPLFLYGPTGLGKTHLMQAVGNALLQAKPNARVMYMTSESFVQDFVSSLQKGKVEEFKKNCRSLDLLLVDDIHLLAGKEASLVEFFYTFNALLDESKQIILTSDRYPKELTELDPRLVSRFSWGLSVGVEPPDIETRIEILLKKAENSGVDLPRNCALFIAQQVVANVRELEGALNKVVAISRFKGAPIDLDVVRESLKDVLAIRARTISVENIQRVVSEYFRIPLKELVGPKRTRIYARPRQLAMGLARELTGDSFPEIGMAFGGRDHSTVMHACEKVV\n",
      "Longitud ADN:1329\n",
      "Longitud proteina:443\n",
      "Porcentaje aromáticos total:0.1\n",
      "Porcentaje F:3.8\n",
      "Porcentaje Y:2.0\n",
      "Porcentaje W:0.9\n"
     ]
    }
   ],
   "source": [
    "from collections import Counter\n",
    "codigo_genetico = {\n",
    "    'TTT': 'F', 'TTC': 'F', 'TTA': 'L', 'TTG': 'L',\n",
    "    'CTT': 'L', 'CTC': 'L', 'CTA': 'L', 'CTG': 'L',\n",
    "    'ATT': 'I', 'ATC': 'I', 'ATA': 'I', 'ATG': 'M',\n",
    "    'GTT': 'V', 'GTC': 'V', 'GTA': 'V', 'GTG': 'V',\n",
    "    'TCT': 'S', 'TCC': 'S', 'TCA': 'S', 'TCG': 'S',\n",
    "    'CCT': 'P', 'CCC': 'P', 'CCA': 'P', 'CCG': 'P',\n",
    "    'ACT': 'T', 'ACC': 'T', 'ACA': 'T', 'ACG': 'T',\n",
    "    'GCT': 'A', 'GCC': 'A', 'GCA': 'A', 'GCG': 'A',\n",
    "    'TAT': 'Y', 'TAC': 'Y', 'TAA': '*', 'TAG': '*',\n",
    "    'CAT': 'H', 'CAC': 'H', 'CAA': 'Q', 'CAG': 'Q',\n",
    "    'AAT': 'N', 'AAC': 'N', 'AAA': 'K', 'AAG': 'K',\n",
    "    'GAT': 'D', 'GAC': 'D', 'GAA': 'E', 'GAG': 'E',\n",
    "    'TGT': 'C', 'TGC': 'C', 'TGA': '*', 'TGG': 'W',\n",
    "    'CGT': 'R', 'CGC': 'R', 'CGA': 'R', 'CGG': 'R',\n",
    "    'AGT': 'S', 'AGC': 'S', 'AGA': 'R', 'AGG': 'R',\n",
    "    'GGT': 'G', 'GGC': 'G', 'GGA': 'G', 'GGG': 'G'\n",
    "}\n",
    "def traducir_y_analizar_adn (secuencia):\n",
    "    longitud_adn = len (secuencia)\n",
    "    secuencia_proteina = ''\n",
    "    for i in range (0,len(secuencia)-len(secuencia)%3,3):\n",
    "        codon =secuencia [i:i+3]\n",
    "        secuencia_proteina += codigo_genetico.get(codon, '-')\n",
    "    longitud_proteina =len(secuencia_proteina)\n",
    "   \n",
    "    aromáticos = {'F', 'Y','W'}\n",
    "    conteo = Counter(secuencia_proteina)\n",
    "    total_aromáticos = sum(conteo[aa] for aa in aromáticos)\n",
    "    \n",
    "    porcentaje_aromáticos = (total_aromáticos / longitud_proteina)\n",
    "    porcentaje_f = (conteo ['F'] / longitud_proteina) *100 if longitud_proteina > 0 else 0\n",
    "    porcentaje_y = (conteo ['Y'] / longitud_proteina) *100 if longitud_proteina > 0 else 0\n",
    "    porcentaje_w = (conteo ['W'] / longitud_proteina) *100 if longitud_proteina > 0 else 0\n",
    "\n",
    "    resultados = { \n",
    "        \"Secuencia proteina\": secuencia_proteina,\n",
    "        \"Longitud ADN\": longitud_secuencia,\n",
    "        \"Longitud proteina\": longitud_proteina,\n",
    "        \"Porcentaje aromáticos total\": round (porcentaje_aromáticos, 1),\n",
    "        \"Porcentaje F\": round(porcentaje_f,1),\n",
    "        \"Porcentaje Y\": round(porcentaje_y,1),\n",
    "        \"Porcentaje W\": round(porcentaje_w,1),\n",
    "    }\n",
    "    return (resultados)\n",
    "resultados = traducir_y_analizar_adn (secuencia)\n",
    "for key, value in resultados.items ():\n",
    "    print (f\"{key}:{value}\")\n",
    "    \n"
   ]
  }
 ],
 "metadata": {
  "kernelspec": {
   "display_name": "Python 3 (ipykernel)",
   "language": "python",
   "name": "python3"
  },
  "language_info": {
   "codemirror_mode": {
    "name": "ipython",
    "version": 3
   },
   "file_extension": ".py",
   "mimetype": "text/x-python",
   "name": "python",
   "nbconvert_exporter": "python",
   "pygments_lexer": "ipython3",
   "version": "3.12.4"
  }
 },
 "nbformat": 4,
 "nbformat_minor": 5
}
